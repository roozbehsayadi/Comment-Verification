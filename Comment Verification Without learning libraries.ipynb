{
 "cells": [
  {
   "cell_type": "code",
   "execution_count": 1,
   "metadata": {},
   "outputs": [],
   "source": [
    "# Naive Bayes without library\n",
    "\n",
    "from __future__ import unicode_literals\n",
    "\n",
    "import re\n",
    "import string\n",
    "\n",
    "import numpy as np\n",
    "import pandas as pd\n",
    "\n",
    "from hazm import *\n",
    "from cleantext import clean"
   ]
  },
  {
   "cell_type": "code",
   "execution_count": 2,
   "metadata": {},
   "outputs": [],
   "source": [
    "train_df = pd.read_csv(\"train.csv\")\n",
    "test_df = pd.read_csv(\"test.csv\")\n",
    "\n",
    "train_df['comment'] = train_df['comment'].fillna('XXXXXXXX')\n",
    "test_df['comment'] = test_df['comment'].fillna('XXXXXXXX')"
   ]
  },
  {
   "cell_type": "code",
   "execution_count": 21,
   "metadata": {},
   "outputs": [],
   "source": [
    "def word_extraction(sentence):\n",
    "    normalizer = Normalizer()\n",
    "    sentence = normalizer.normalize(sentence)\n",
    "    sentence = sentence.translate(str.maketrans('', '', string.punctuation))\n",
    "    words = word_tokenize(sentence)\n",
    "    words = [w for w in words if len(w) > 1 ]\n",
    "    words = [w.lower() for w in words]\n",
    "    # words = [re.split(r'([a-zA-Z]+)', w) for w in words]\n",
    "    cleaned_words = []\n",
    "    for word in words:\n",
    "        cleaned_words_temp = re.split(r'([a-zA-Z]+)', word)\n",
    "        cleaned_words.extend(word for word in cleaned_words_temp if len(word) >= 1)\n",
    "    return cleaned_words"
   ]
  },
  {
   "cell_type": "code",
   "execution_count": 9,
   "metadata": {},
   "outputs": [],
   "source": [
    "def tokenize(sentences):\n",
    "    words = []\n",
    "    for sentence in sentences:\n",
    "        # print(sentence)\n",
    "        w = word_extraction(sentence)\n",
    "        words.extend(w)\n",
    "    words = sorted(list(set(words)))\n",
    "    return words"
   ]
  },
  {
   "cell_type": "code",
   "execution_count": 16,
   "metadata": {},
   "outputs": [],
   "source": [
    "\n",
    "comments_ham = train_df.query('verification_status==1')['comment'].values.tolist()\n",
    "comments_spam = train_df.query('verification_status==0')['comment'].values.tolist()\n",
    "\n",
    "all_comments = []\n",
    "all_comments.extend(comments_spam)\n",
    "all_comments.extend(comments_ham)\n",
    "\n",
    "vocabulary = tokenize(all_sentences)\n"
   ]
  }
 ],
 "metadata": {
  "kernelspec": {
   "display_name": "Python 3",
   "language": "python",
   "name": "python3"
  },
  "language_info": {
   "codemirror_mode": {
    "name": "ipython",
    "version": 3
   },
   "file_extension": ".py",
   "mimetype": "text/x-python",
   "name": "python",
   "nbconvert_exporter": "python",
   "pygments_lexer": "ipython3",
   "version": "3.6.9"
  }
 },
 "nbformat": 4,
 "nbformat_minor": 2
}
