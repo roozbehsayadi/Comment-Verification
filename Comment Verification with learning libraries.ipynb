{
 "cells": [
  {
   "cell_type": "code",
   "execution_count": null,
   "metadata": {},
   "outputs": [],
   "source": [
    "\n",
    "import string\n",
    "import re\n",
    "\n",
    "import numpy as np\n",
    "import pandas as pd\n",
    "from hazm import *"
   ]
  },
  {
   "cell_type": "code",
   "execution_count": null,
   "metadata": {},
   "outputs": [],
   "source": [
    "train_df = pd.read_csv(\"train.csv\")\n",
    "test_df = pd.read_csv(\"test.csv\")\n",
    "\n",
    "train_df['comment'] = train_df['comment'].fillna('XXXXXXXX')\n",
    "test_df['comment'] = test_df['comment'].fillna('XXXXXXXX')\n",
    "train_df['title'] = train_df['title'].fillna('XXXXXXXX')\n",
    "test_df['title'] = test_df['title'].fillna('XXXXXXXX')\n",
    "\n",
    "train_df['text'] = train_df[['title', 'comment']].apply(lambda x: ' '.join(x), axis=1)\n",
    "test_df['text'] = test_df[['title', 'comment']].apply(lambda x: ' '.join(x), axis=1)\n",
    "\n",
    "train_df = train_df[['text', 'verification_status']]\n",
    "test_df = test_df[['id', 'text']]\n",
    "\n",
    "train_spam_count = train_df.query('verification_status==0')['verification_status'].count()\n",
    "train_ham_count = train_df.query('verification_status==1')['verification_status'].count()"
   ]
  },
  {
   "cell_type": "code",
   "execution_count": null,
   "metadata": {},
   "outputs": [],
   "source": [
    "with open(r'stop_words') as f:\n",
    "    stop_words = f.read().splitlines()\n",
    "def word_extraction(sentence):\n",
    "    normalizer = Normalizer()\n",
    "    sentence = normalizer.normalize(sentence)\n",
    "    sentence = sentence.translate(str.maketrans('', '', string.punctuation))\n",
    "    words = word_tokenize(sentence)\n",
    "    words = [w for w in words if len(w) > 1 ]\n",
    "    words = [w.lower() for w in words]\n",
    "    words = [w for w in words if not w in stop_words]\n",
    "    # words = [re.split(r'([a-zA-Z]+)', w) for w in words]\n",
    "    cleaned_words = []\n",
    "    for word in words:\n",
    "        cleaned_words_temp = re.split(r'([a-zA-Z]+)', word)\n",
    "        cleaned_words.extend(word for word in cleaned_words_temp if len(word) >= 1)\n",
    "    return cleaned_words"
   ]
  },
  {
   "cell_type": "code",
   "execution_count": null,
   "metadata": {},
   "outputs": [],
   "source": [
    "def tokenize(sentences):\n",
    "    words = []\n",
    "    for sentence in sentences:\n",
    "        # print(sentence)\n",
    "        w = word_extraction(sentence)\n",
    "        words.extend(w)\n",
    "    words = sorted(list(set(words)))\n",
    "    return words"
   ]
  },
  {
   "cell_type": "code",
   "execution_count": null,
   "metadata": {},
   "outputs": [],
   "source": [
    "from sklearn.feature_extraction.text import CountVectorizer\n",
    "\n",
    "all_comments_df = pd.concat([train_df['text'], test_df['text']], axis=0)\n",
    "all_comments_df = all_comments_df.to_frame()\n",
    "all_comments_df.columns = ['text']\n",
    "\n",
    "messages_bow = CountVectorizer(analyzer=word_extraction).fit_transform(all_comments_df['text'])"
   ]
  },
  {
   "cell_type": "code",
   "execution_count": null,
   "metadata": {},
   "outputs": [],
   "source": [
    "from sklearn.model_selection import train_test_split\n",
    "X_train, X_test, y_train, y_test = train_test_split(messages_bow[0:160000], train_df['verification_status'], test_size = 0.3, random_state=0)"
   ]
  },
  {
   "cell_type": "code",
   "execution_count": null,
   "metadata": {},
   "outputs": [],
   "source": [
    "from sklearn.naive_bayes import MultinomialNB\n",
    "classifier = MultinomialNB()\n",
    "classifier.fit(X_train, y_train)"
   ]
  },
  {
   "cell_type": "code",
   "execution_count": null,
   "metadata": {},
   "outputs": [],
   "source": [
    "y_pred = classifier.predict(messages_bow[160000:180001])\n",
    "output = test_df.assign(verification_status = y_pred)\n",
    "output = output[['id', 'verification_status']]\n",
    "output = output.set_index('id')\n",
    "output.to_csv(r'ans.csv')"
   ]
  }
 ],
 "metadata": {
  "kernelspec": {
   "display_name": "Python 3",
   "language": "python",
   "name": "python3"
  },
  "language_info": {
   "codemirror_mode": {
    "name": "ipython",
    "version": 3
   },
   "file_extension": ".py",
   "mimetype": "text/x-python",
   "name": "python",
   "nbconvert_exporter": "python",
   "pygments_lexer": "ipython3",
   "version": "3.6.9"
  }
 },
 "nbformat": 4,
 "nbformat_minor": 2
}
